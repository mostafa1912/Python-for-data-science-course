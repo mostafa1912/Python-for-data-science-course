{
 "cells": [
  {
   "cell_type": "code",
   "execution_count": null,
   "id": "ec23f577-bfc8-4c4b-a0ef-8fe6a3503e73",
   "metadata": {},
   "outputs": [],
   "source": [
    "file = open(INPUT.txt)\n",
    "print(file.read())\n"
   ]
  }
 ],
 "metadata": {
  "kernelspec": {
   "display_name": "Python 3",
   "language": "python",
   "name": "python3"
  },
  "language_info": {
   "codemirror_mode": {
    "name": "ipython",
    "version": 3
   },
   "file_extension": ".py",
   "mimetype": "text/x-python",
   "name": "python",
   "nbconvert_exporter": "python",
   "pygments_lexer": "ipython3",
   "version": "3.8.8"
  }
 },
 "nbformat": 4,
 "nbformat_minor": 5
}
